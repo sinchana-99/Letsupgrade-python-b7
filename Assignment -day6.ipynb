{
 "cells": [
  {
   "cell_type": "markdown",
   "metadata": {},
   "source": [
    "# Question 1"
   ]
  },
  {
   "cell_type": "code",
   "execution_count": 51,
   "metadata": {},
   "outputs": [],
   "source": [
    "class bank():\n",
    "    def __init__(self,owner_name,balance):\n",
    "        self.owner_name=owner_name\n",
    "        self.balance=balance\n",
    "      \n",
    "    def deposit(self):\n",
    "        \n",
    "        deposit_amt=int(input(\"Enter the amount you want to deposit\" ))\n",
    "        self.balance= self.balance + deposit_amt\n",
    "        gg=int(self.balance)\n",
    "        print(\"the total amount in your account is-\",gg)\n",
    "        \n",
    "    def withdraw(self):\n",
    "        withdraw_amt=int(input(\"enter the amount you want to withdraw\"))\n",
    "        if(self.balance <=200):\n",
    "            self.balance=self.balance-withdraw_amt\n",
    "            print(\"your balance amount is\",self.balance)\n",
    "        else:\n",
    "            print(\"you have reached your minimum account balance\")\n",
    "        "
   ]
  },
  {
   "cell_type": "code",
   "execution_count": 52,
   "metadata": {},
   "outputs": [],
   "source": [
    "cuss=bank(\"raj\",500)"
   ]
  },
  {
   "cell_type": "code",
   "execution_count": 53,
   "metadata": {},
   "outputs": [
    {
     "name": "stdout",
     "output_type": "stream",
     "text": [
      "Enter the amount you want to deposit500\n",
      "the total amount in your account is- 1000\n"
     ]
    }
   ],
   "source": [
    "cuss.deposit()"
   ]
  },
  {
   "cell_type": "code",
   "execution_count": 54,
   "metadata": {},
   "outputs": [
    {
     "name": "stdout",
     "output_type": "stream",
     "text": [
      "enter the amount you want to withdraw500\n",
      "your balance amount is 500\n"
     ]
    }
   ],
   "source": [
    "cuss.withdraw()"
   ]
  },
  {
   "cell_type": "code",
   "execution_count": 56,
   "metadata": {},
   "outputs": [
    {
     "name": "stdout",
     "output_type": "stream",
     "text": [
      "enter the amount you want to withdraw300\n",
      "you have reached your minimum account balance\n"
     ]
    }
   ],
   "source": [
    "cuss.withdraw()"
   ]
  },
  {
   "cell_type": "markdown",
   "metadata": {},
   "source": [
    "# Question 2"
   ]
  },
  {
   "cell_type": "code",
   "execution_count": 98,
   "metadata": {},
   "outputs": [],
   "source": [
    "import math\n",
    "pi=math.pi\n",
    "class cone():\n",
    "    def __init__(self,radius,height):\n",
    "        self.radius=float(radius)\n",
    "        self.height=float(height)\n",
    "        \n",
    "    def volume(self):\n",
    "        vol=(1)/3 *pi *self.radius *self.radius *self.height\n",
    "        print(\"volume of cone is =\",round(vol))\n",
    "     \n",
    "    def surface(self):\n",
    "        surface_area=math.pi * self.radius *(math.sqrt((self.radius*self.radius) + (self.height * self.height)))\n",
    "        \n",
    "        print(\"surface area is-\",round(surface_area))                                     \n",
    "        \n",
    "        \n",
    "        "
   ]
  },
  {
   "cell_type": "code",
   "execution_count": 99,
   "metadata": {},
   "outputs": [],
   "source": [
    "mes=cone(5,2)"
   ]
  },
  {
   "cell_type": "code",
   "execution_count": 100,
   "metadata": {},
   "outputs": [
    {
     "name": "stdout",
     "output_type": "stream",
     "text": [
      "volume of cone is = 52\n"
     ]
    }
   ],
   "source": [
    "mes.volume()"
   ]
  },
  {
   "cell_type": "code",
   "execution_count": 101,
   "metadata": {},
   "outputs": [
    {
     "name": "stdout",
     "output_type": "stream",
     "text": [
      "surface area is- 85\n"
     ]
    }
   ],
   "source": [
    "mes.surface()"
   ]
  },
  {
   "cell_type": "code",
   "execution_count": null,
   "metadata": {},
   "outputs": [],
   "source": []
  }
 ],
 "metadata": {
  "kernelspec": {
   "display_name": "Python 3",
   "language": "python",
   "name": "python3"
  },
  "language_info": {
   "codemirror_mode": {
    "name": "ipython",
    "version": 3
   },
   "file_extension": ".py",
   "mimetype": "text/x-python",
   "name": "python",
   "nbconvert_exporter": "python",
   "pygments_lexer": "ipython3",
   "version": "3.7.4"
  }
 },
 "nbformat": 4,
 "nbformat_minor": 2
}
